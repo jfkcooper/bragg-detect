{
 "cells": [
  {
   "cell_type": "code",
   "execution_count": null,
   "metadata": {},
   "outputs": [
    {
     "name": "stdout",
     "output_type": "stream",
     "text": [
      "Bragg peak detection started:\n",
      "* Data dimension: [1520  128 4451]\n",
      "* Large peak size: [10 10 50]\n",
      "* Widths of detection blocks: [ 50  50 250]\n",
      "* Widths of verification blocks: [100 100 500]\n",
      "* Block slicing: [51, 5, 30] -> 7650 blocks\n",
      "* LoG arguments:\n",
      "  - min_sigma: [ 2  2 12]\n",
      "  - max_sigma: [10 10 50]\n",
      "  - num_sigma: 5\n",
      "  - threshold: 0.2\n",
      "  - overlap: 0.5\n",
      "  - log_scale: False\n",
      "* Strategy for 3d morphological analysis: individual\n",
      "* Number of workers: 1\n"
     ]
    }
   ],
   "source": [
    "import h5py\n",
    "import numpy as np\n",
    "\n",
    "from bragg_detect import detect_bragg_peaks, plot_peaks_over_data\n",
    "\n",
    "with h5py.File(f'data.hdf5', 'r') as file:\n",
    "    data = file[list(file.keys())[0]][:]\n",
    "\n",
    "# detect\n",
    "peaks = detect_bragg_peaks(data, large_peak_size=[10, 10, 50],\n",
    "                           threshold=.2, workers=1)\n",
    "\n",
    "# save results\n",
    "np.savetxt(f'result_peaks.txt', peaks, fmt='%d')"
   ]
  },
  {
   "cell_type": "code",
   "execution_count": null,
   "metadata": {},
   "outputs": [],
   "source": [
    "plot_peaks_over_data(data, plot_size=(2000, 1000, 3000),\n",
    "                     vmax=(.5, 0.05, 0.05),\n",
    "                     peak_sets=[(peaks, 'w', 'o', 3, 0)])"
   ]
  }
 ],
 "metadata": {
  "kernelspec": {
   "display_name": "Python 3",
   "language": "python",
   "name": "python3"
  },
  "language_info": {
   "codemirror_mode": {
    "name": "ipython",
    "version": 3
   },
   "file_extension": ".py",
   "mimetype": "text/x-python",
   "name": "python",
   "nbconvert_exporter": "python",
   "pygments_lexer": "ipython3",
   "version": "3.8.6"
  }
 },
 "nbformat": 4,
 "nbformat_minor": 4
}
